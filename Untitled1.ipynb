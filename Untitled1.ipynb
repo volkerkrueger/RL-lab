{
 "cells": [
  {
   "cell_type": "code",
   "execution_count": 1,
   "id": "4ee350b3-5b61-4b31-b1d0-2740e9cb23c6",
   "metadata": {},
   "outputs": [],
   "source": [
    "def identity(x):\n",
    "    return x"
   ]
  },
  {
   "cell_type": "code",
   "execution_count": 11,
   "id": "981cebd3-1205-4e07-bd03-f2482f91fe8b",
   "metadata": {},
   "outputs": [],
   "source": [
    "high_order_func = lambda x, func: x+func(x)"
   ]
  },
  {
   "cell_type": "code",
   "execution_count": 29,
   "id": "9f4b8052-6313-4077-a224-f7842db78891",
   "metadata": {},
   "outputs": [],
   "source": [
    "%matplotlib inline\n",
    "\n",
    "import matplotlib\n",
    "import matplotlib.pyplot as plt\n",
    "import numpy as np\n",
    "import sys\n",
    "import time\n",
    "from scipy.spatial.distance import cdist\n",
    "\n",
    "from collections import defaultdict\n",
    "\n",
    "from blackjack import BlackjackEnv\n",
    "import plotting\n",
    "\n",
    "matplotlib.style.use('ggplot')"
   ]
  },
  {
   "cell_type": "code",
   "execution_count": 30,
   "id": "02ff6266-40f6-47c2-b03b-7eae7ce82165",
   "metadata": {},
   "outputs": [],
   "source": [
    "env = BlackjackEnv()"
   ]
  },
  {
   "cell_type": "code",
   "execution_count": 31,
   "id": "55ec0393-1a83-4180-bd7b-7b4b97a0809b",
   "metadata": {},
   "outputs": [
    {
     "data": {
      "text/plain": [
       "2"
      ]
     },
     "execution_count": 31,
     "metadata": {},
     "output_type": "execute_result"
    }
   ],
   "source": [
    "env.action_space.n"
   ]
  },
  {
   "cell_type": "code",
   "execution_count": 32,
   "id": "e3804b02-022b-4076-81e6-4680bee0c76b",
   "metadata": {},
   "outputs": [],
   "source": [
    "epsilon=0.1"
   ]
  },
  {
   "cell_type": "code",
   "execution_count": 33,
   "id": "1eee7700-fdc7-487b-8fa0-e30fe7cc9783",
   "metadata": {},
   "outputs": [],
   "source": [
    "    Q = defaultdict(lambda: np.zeros(env.action_space.n))\n"
   ]
  },
  {
   "cell_type": "code",
   "execution_count": 34,
   "id": "e104abc5-07ce-424b-8463-a932c590486a",
   "metadata": {},
   "outputs": [
    {
     "ename": "NameError",
     "evalue": "name 'make_epsilon_greedy_policy' is not defined",
     "output_type": "error",
     "traceback": [
      "\u001b[0;31m---------------------------------------------------------------------------\u001b[0m",
      "\u001b[0;31mNameError\u001b[0m                                 Traceback (most recent call last)",
      "Cell \u001b[0;32mIn[34], line 1\u001b[0m\n\u001b[0;32m----> 1\u001b[0m policy \u001b[38;5;241m=\u001b[39m make_epsilon_greedy_policy(Q, epsilon, env\u001b[38;5;241m.\u001b[39maction_space\u001b[38;5;241m.\u001b[39mn)\n",
      "\u001b[0;31mNameError\u001b[0m: name 'make_epsilon_greedy_policy' is not defined"
     ]
    }
   ],
   "source": []
  },
  {
   "cell_type": "code",
   "execution_count": 35,
   "id": "194ac1e4-7516-4bba-864b-47b2b03579cb",
   "metadata": {},
   "outputs": [],
   "source": [
    "def make_epsilon_greedy_policy(Q, epsilon, nA):\n",
    "    \"\"\"\n",
    "    Creates an epsilon-greedy policy based on a given Q-function and epsilon.\n",
    "    \n",
    "    Args:\n",
    "        Q: A dictionary that maps from state -> action-values.\n",
    "            Each value is a numpy array of length nA (see below)\n",
    "        epsilon: The probability to select a random action . float between 0 and 1.\n",
    "        nA: Number of actions in the environment.\n",
    "    \n",
    "    Returns:\n",
    "        A function that takes the observation as an argument and returns\n",
    "        the probabilities for each action in the form of a numpy array of length nA.\n",
    "    \n",
    "    \"\"\"\n",
    "    def policy_fn(observation):\n",
    "        A = np.ones(nA, dtype=float) * epsilon / nA\n",
    "        best_action = np.argmax(Q[observation])\n",
    "        A[best_action] += (1.0 - epsilon)\n",
    "        return A\n",
    "    return policy_fn"
   ]
  },
  {
   "cell_type": "code",
   "execution_count": 36,
   "id": "4ecc4491-ee41-4f86-b588-b8fb31aedf38",
   "metadata": {},
   "outputs": [],
   "source": [
    "    policy = make_epsilon_greedy_policy(Q, epsilon, env.action_space.n)\n"
   ]
  },
  {
   "cell_type": "code",
   "execution_count": 55,
   "id": "081de955-7553-41b4-8cd7-1ea3a7036fda",
   "metadata": {},
   "outputs": [
    {
     "name": "stdout",
     "output_type": "stream",
     "text": [
      "(13, 1, False)\n",
      "[((13, 1, False), 0, -1)]\n"
     ]
    }
   ],
   "source": [
    "episode = []\n",
    "state = env.reset()\n",
    "print(state)\n",
    "policy = make_epsilon_greedy_policy(Q, epsilon, env.action_space.n)\n",
    "for t in range(100):\n",
    "       probs = policy(state)\n",
    "       action = np.random.choice(np.arange(len(probs)), p=probs)\n",
    "       next_state, reward, done, _ = env.step(action)\n",
    "       episode.append((state, action, reward))\n",
    "       if done:\n",
    "           break\n",
    "       state = next_state\n",
    "print(episode)"
   ]
  },
  {
   "cell_type": "code",
   "execution_count": null,
   "id": "1f36a317-5311-4121-b232-b0e912078051",
   "metadata": {},
   "outputs": [],
   "source": []
  },
  {
   "cell_type": "code",
   "execution_count": null,
   "id": "b8b578c0-5820-46ab-a45c-52c99e320688",
   "metadata": {},
   "outputs": [],
   "source": []
  },
  {
   "cell_type": "code",
   "execution_count": null,
   "id": "0d064210-9108-45ec-b1fc-3603c864d7df",
   "metadata": {},
   "outputs": [],
   "source": []
  },
  {
   "cell_type": "code",
   "execution_count": 52,
   "id": "c83bb920-c1f8-4927-bef5-3793a1ea6413",
   "metadata": {},
   "outputs": [
    {
     "data": {
      "text/plain": [
       "[((14, 9, False), 0, -1)]"
      ]
     },
     "execution_count": 52,
     "metadata": {},
     "output_type": "execute_result"
    }
   ],
   "source": [
    "episode"
   ]
  },
  {
   "cell_type": "code",
   "execution_count": null,
   "id": "4c77b0d2-081a-4e88-a857-710d355ac26f",
   "metadata": {},
   "outputs": [],
   "source": []
  },
  {
   "cell_type": "code",
   "execution_count": 48,
   "id": "798ee4a3-9fcb-4fdd-bbe7-fff980177f53",
   "metadata": {},
   "outputs": [
    {
     "data": {
      "text/plain": [
       "[((18, 10, True), 0, 1)]"
      ]
     },
     "execution_count": 48,
     "metadata": {},
     "output_type": "execute_result"
    }
   ],
   "source": [
    "episode"
   ]
  },
  {
   "cell_type": "code",
   "execution_count": 49,
   "id": "903764b1-35e0-4f4a-804d-357492f883bf",
   "metadata": {},
   "outputs": [
    {
     "data": {
      "text/plain": [
       "0"
      ]
     },
     "execution_count": 49,
     "metadata": {},
     "output_type": "execute_result"
    }
   ],
   "source": [
    "action"
   ]
  },
  {
   "cell_type": "code",
   "execution_count": 50,
   "id": "a3e42ecd-50d6-4e18-b107-c5d5e54fdcaf",
   "metadata": {},
   "outputs": [
    {
     "data": {
      "text/plain": [
       "array([0.95, 0.05])"
      ]
     },
     "execution_count": 50,
     "metadata": {},
     "output_type": "execute_result"
    }
   ],
   "source": [
    "probs"
   ]
  },
  {
   "cell_type": "code",
   "execution_count": null,
   "id": "fcee3454-7e28-405b-afb0-2adf2b0ea94a",
   "metadata": {},
   "outputs": [],
   "source": []
  },
  {
   "cell_type": "code",
   "execution_count": null,
   "id": "8e3cb2ac-2827-4fb7-8b86-4d5705290047",
   "metadata": {},
   "outputs": [],
   "source": []
  },
  {
   "cell_type": "code",
   "execution_count": null,
   "id": "19852d8f-1696-4f97-83bd-6e7d2652b209",
   "metadata": {},
   "outputs": [],
   "source": []
  },
  {
   "cell_type": "code",
   "execution_count": 43,
   "id": "1f212bd9-9fe8-43d8-9029-313aab9b131c",
   "metadata": {},
   "outputs": [
    {
     "data": {
      "text/plain": [
       "(15, 6, False)"
      ]
     },
     "execution_count": 43,
     "metadata": {},
     "output_type": "execute_result"
    }
   ],
   "source": [
    "state"
   ]
  },
  {
   "cell_type": "code",
   "execution_count": 44,
   "id": "abb5763d-97b4-430a-99c2-04ba03a3c1f3",
   "metadata": {},
   "outputs": [
    {
     "name": "stdout",
     "output_type": "stream",
     "text": [
      "(15, 6, False)\n"
     ]
    }
   ],
   "source": [
    "print(state)"
   ]
  },
  {
   "cell_type": "code",
   "execution_count": null,
   "id": "27131d54-c80d-488a-b32a-229dae795fc3",
   "metadata": {},
   "outputs": [],
   "source": []
  },
  {
   "cell_type": "code",
   "execution_count": 40,
   "id": "22de0fec-bb15-4d05-bd18-19c8a5d0c2ce",
   "metadata": {},
   "outputs": [
    {
     "data": {
      "text/plain": [
       "[((20, 10, False), 0, 0)]"
      ]
     },
     "execution_count": 40,
     "metadata": {},
     "output_type": "execute_result"
    }
   ],
   "source": [
    "episode"
   ]
  },
  {
   "cell_type": "code",
   "execution_count": 41,
   "id": "e1ab7df5-c9df-4e24-8478-f9165e70353f",
   "metadata": {},
   "outputs": [
    {
     "data": {
      "text/plain": [
       "(20, 10, False)"
      ]
     },
     "execution_count": 41,
     "metadata": {},
     "output_type": "execute_result"
    }
   ],
   "source": [
    "state"
   ]
  },
  {
   "cell_type": "code",
   "execution_count": null,
   "id": "101bd830-ff2e-48e0-b4c4-87fb70548983",
   "metadata": {},
   "outputs": [],
   "source": []
  },
  {
   "cell_type": "code",
   "execution_count": null,
   "id": "4ff23642-05a0-4622-86c2-0a7e3c66feb7",
   "metadata": {},
   "outputs": [],
   "source": []
  },
  {
   "cell_type": "code",
   "execution_count": null,
   "id": "cb701e58-164a-4961-978d-f29b2e510f20",
   "metadata": {},
   "outputs": [],
   "source": []
  },
  {
   "cell_type": "code",
   "execution_count": null,
   "id": "02d60e51-cc0e-40c9-8fd4-a6755d8bdded",
   "metadata": {},
   "outputs": [],
   "source": []
  },
  {
   "cell_type": "code",
   "execution_count": null,
   "id": "33b622a9-af2b-411b-9a8f-0b272c59c727",
   "metadata": {},
   "outputs": [],
   "source": []
  },
  {
   "cell_type": "code",
   "execution_count": null,
   "id": "fae5055f-fde3-4f9b-a3e0-8cd9127afa73",
   "metadata": {},
   "outputs": [],
   "source": []
  },
  {
   "cell_type": "code",
   "execution_count": null,
   "id": "9817b89d-93e0-4975-a887-49b704f8db0e",
   "metadata": {},
   "outputs": [],
   "source": []
  },
  {
   "cell_type": "code",
   "execution_count": null,
   "id": "a7f887df-f095-4c5d-bb17-9583af8f0bcf",
   "metadata": {},
   "outputs": [],
   "source": []
  },
  {
   "cell_type": "code",
   "execution_count": null,
   "id": "f0b56952-54e9-49f3-b14d-a2f0ac9c6bb6",
   "metadata": {},
   "outputs": [],
   "source": []
  },
  {
   "cell_type": "code",
   "execution_count": null,
   "id": "ca1fed63-2ca1-4ddb-b4ff-a7c76a9978c6",
   "metadata": {},
   "outputs": [],
   "source": []
  }
 ],
 "metadata": {
  "kernelspec": {
   "display_name": "Python 3 (ipykernel)",
   "language": "python",
   "name": "python3"
  },
  "language_info": {
   "codemirror_mode": {
    "name": "ipython",
    "version": 3
   },
   "file_extension": ".py",
   "mimetype": "text/x-python",
   "name": "python",
   "nbconvert_exporter": "python",
   "pygments_lexer": "ipython3",
   "version": "3.12.1"
  }
 },
 "nbformat": 4,
 "nbformat_minor": 5
}
